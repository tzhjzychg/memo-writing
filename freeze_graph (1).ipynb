{
 "cells": [
  {
   "cell_type": "markdown",
   "metadata": {},
   "source": [
    "## Bert模型server指导手册\n",
    "  \n",
    "  <1> 模型搭建  \n",
    "  <2> ckpt模型载入   \n",
    "  <3> 模型测试   \n",
    "  <4> 生成pb模型  \n",
    "  <5> 输出数据解析  "
   ]
  },
  {
   "cell_type": "code",
   "execution_count": 1,
   "metadata": {},
   "outputs": [],
   "source": [
    "import json\n",
    "import os\n",
    "import sys\n",
    "import modeling\n",
    "import tensorflow as tf\n",
    "tf.reset_default_graph()\n",
    "\n",
    "# 设置信息\n",
    "max_seq_len = 64\n",
    "bert_model_dir = '../pre_model_wwm/publish/'\n",
    "is_training=False\n",
    "segment_ids=None\n",
    "labels= ['P','M','N']\n",
    "num_labels= len(labels)\n",
    "model_dir = '../emotion_datasets/bert_output/'\n",
    "pb_file = '../emotion_datasets/bert_output/2/'"
   ]
  },
  {
   "cell_type": "code",
   "execution_count": 2,
   "metadata": {},
   "outputs": [],
   "source": [
    "def create_classification_model(bert_config, input_ids, input_mask, num_labels):\n",
    "    '''Bert-classifier模型搭建\n",
    "    \n",
    "       input\n",
    "          input_ids：输入1，shape(?,max_seq_len)\n",
    "          input_mask：输入2，shape(?,max_seq_len)\n",
    "          bert_config：bert配置信息，json\n",
    "          num_labels：分类数，int\n",
    "          \n",
    "       return\n",
    "          probabilities：输出，shape(?,num_labels)\n",
    "    '''\n",
    "    # 创建bert模型\n",
    "    model = modeling.BertModel(\n",
    "        config=bert_config,\n",
    "        is_training=False,\n",
    "        input_ids=input_ids,\n",
    "        input_mask=input_mask,\n",
    "        token_type_ids=None,\n",
    "    )\n",
    "    \n",
    "    #获取输出层信息，ckpt里边包含了\n",
    "    embedding_layer = model.get_sequence_output() #获取encode的最后的output\n",
    "    output_layer = model.get_pooled_output() #shape=(?, 768)\n",
    "    hidden_size = output_layer.shape[-1].value #获取隐含层数\n",
    "    \n",
    "    #新建输出层W,B  ckpt文件里已经包含了数据以及shape，此处新建一个空的即可\n",
    "    output_weights = tf.get_variable(\n",
    "        \"output_weights\", [num_labels, hidden_size],\n",
    "        initializer=tf.truncated_normal_initializer(stddev=0.02)) #或者tf.zeros_initializer()\n",
    "\n",
    "    output_bias = tf.get_variable(\n",
    "        \"output_bias\", [num_labels], initializer=tf.zeros_initializer())\n",
    "    \n",
    "    #创建softmax分类器，这个不包含在ckpt里，需要自建，实际上和classifier脚本里一致\n",
    "    with tf.variable_scope(\"loss\"):\n",
    "        logits = tf.matmul(output_layer, output_weights, transpose_b=True) # (?, 768) * (3, 768).T = (?, 3)\n",
    "        logits = tf.nn.bias_add(logits, output_bias) #(?, 3)\n",
    "        probabilities = tf.nn.softmax(logits, axis=-1) #(?, 3)\n",
    "\n",
    "    return probabilities"
   ]
  },
  {
   "cell_type": "markdown",
   "metadata": {},
   "source": [
    "### 模型搭建"
   ]
  },
  {
   "cell_type": "code",
   "execution_count": 3,
   "metadata": {},
   "outputs": [],
   "source": [
    "graph = tf.Graph().as_default() #新建图\n",
    "\n",
    "# 搭建模型，输入input_ids, input_mask；输出probabilities\n",
    "# 张量name分别对应'input_ids'、'input_mask'、'pred_prob'\n",
    "\n",
    "input_ids = tf.placeholder(tf.int32, (None, max_seq_len), 'input_ids')\n",
    "input_mask = tf.placeholder(tf.int32, (None, max_seq_len), 'input_mask')\n",
    "\n",
    "# 加载bert模型参数\n",
    "bert_config = modeling.BertConfig.from_json_file(os.path.join(bert_model_dir, 'bert_config.json'))\n",
    "\n",
    "# 构建model\n",
    "probabilities = create_classification_model(bert_config, input_ids, input_mask, num_labels)\n",
    "probabilities = tf.identity(probabilities, 'pred_prob')\n",
    "\n",
    "# 新建会话\n",
    "sess = tf.Session()\n",
    "sess.run(tf.global_variables_initializer())"
   ]
  },
  {
   "cell_type": "markdown",
   "metadata": {},
   "source": [
    "### ckpt数据导入"
   ]
  },
  {
   "cell_type": "code",
   "execution_count": 4,
   "metadata": {},
   "outputs": [
    {
     "name": "stdout",
     "output_type": "stream",
     "text": [
      "INFO:tensorflow:Restoring parameters from ../emotion_datasets/bert_output/model.ckpt-13900\n"
     ]
    }
   ],
   "source": [
    "#载入ckpt数据\n",
    "saver = tf.train.Saver()\n",
    "latest_checkpoint = tf.train.latest_checkpoint(model_dir)\n",
    "saver.restore(sess,latest_checkpoint )"
   ]
  },
  {
   "cell_type": "markdown",
   "metadata": {},
   "source": [
    "### 模型测试"
   ]
  },
  {
   "cell_type": "code",
   "execution_count": 5,
   "metadata": {},
   "outputs": [
    {
     "data": {
      "text/plain": [
       "dict_keys(['input_ids', 'input_mask'])"
      ]
     },
     "execution_count": 5,
     "metadata": {},
     "output_type": "execute_result"
    }
   ],
   "source": [
    "# 载入测试数据\n",
    "import pickle\n",
    "with open('data.pkl', 'rb') as f1:\n",
    "    input_token = pickle.load(f1)\n",
    "input_token.keys()"
   ]
  },
  {
   "cell_type": "code",
   "execution_count": 7,
   "metadata": {},
   "outputs": [],
   "source": [
    "# run\n",
    "result_predict = sess.run(probabilities,feed_dict={input_ids: input_token['input_ids'],\n",
    "                                  input_mask: input_token['input_mask']})"
   ]
  },
  {
   "cell_type": "code",
   "execution_count": 9,
   "metadata": {},
   "outputs": [
    {
     "data": {
      "text/plain": [
       "array([[5.8879061e-05, 1.0846292e-04, 9.9983263e-01],\n",
       "       [8.8460773e-05, 1.0214040e-04, 9.9980944e-01],\n",
       "       [2.9871444e-04, 9.9909604e-01, 6.0532126e-04],\n",
       "       [5.7470574e-05, 9.9978250e-01, 1.6012168e-04],\n",
       "       [1.0532954e-04, 8.2358238e-05, 9.9981230e-01],\n",
       "       [3.2238050e-03, 9.9630249e-01, 4.7368565e-04],\n",
       "       [4.2076463e-05, 1.4948433e-04, 9.9980849e-01],\n",
       "       [5.4139044e-05, 9.9969935e-01, 2.4662833e-04],\n",
       "       [9.9976367e-01, 1.5552572e-04, 8.0861922e-05],\n",
       "       [1.2445223e-04, 9.1115115e-05, 9.9978441e-01],\n",
       "       [5.2809057e-05, 9.9975449e-01, 1.9267792e-04],\n",
       "       [5.1967017e-05, 9.9981147e-01, 1.3664705e-04]], dtype=float32)"
      ]
     },
     "execution_count": 9,
     "metadata": {},
     "output_type": "execute_result"
    }
   ],
   "source": [
    "result_predict"
   ]
  },
  {
   "cell_type": "markdown",
   "metadata": {},
   "source": [
    "### 生成pb模型"
   ]
  },
  {
   "cell_type": "code",
   "execution_count": 8,
   "metadata": {},
   "outputs": [
    {
     "name": "stdout",
     "output_type": "stream",
     "text": [
      "INFO:tensorflow:Assets added to graph.\n",
      "INFO:tensorflow:No assets to write.\n",
      "INFO:tensorflow:SavedModel written to: ../emotion_datasets/bert_output/2/saved_model.pb\n"
     ]
    }
   ],
   "source": [
    "# 通过sess保存,outputs自定义信号如下，为符合平台在线测试用的\n",
    "tf.saved_model.simple_save(sess,export_dir=pb_file,\n",
    "                           inputs={\"input_ids\": input_ids,\"input_mask\":input_mask},outputs={\"pred_prob\": probabilities})"
   ]
  },
  {
   "cell_type": "code",
   "execution_count": 9,
   "metadata": {},
   "outputs": [
    {
     "name": "stdout",
     "output_type": "stream",
     "text": [
      "/clever/code/bert_a/source/bert-master/emotion_datasets/bert_output\n",
      "  adding: 2/ (stored 0%)\n",
      "  adding: 2/variables/ (stored 0%)\n",
      "  adding: 2/variables/variables.data-00000-of-00001 (deflated 7%)\n",
      "  adding: 2/variables/variables.index (deflated 68%)\n",
      "  adding: 2/saved_model.pb (deflated 91%)\n"
     ]
    }
   ],
   "source": [
    "# 压缩\n",
    "! cd /clever/code/bert_a/source/bert-master/emotion_datasets/bert_output/;pwd;zip -r 2.zip 2"
   ]
  },
  {
   "cell_type": "markdown",
   "metadata": {},
   "source": [
    "### 输出数据解析"
   ]
  },
  {
   "cell_type": "code",
   "execution_count": 10,
   "metadata": {},
   "outputs": [
    {
     "data": {
      "text/plain": [
       "['N', 'N', 'M', 'M', 'N', 'M', 'N', 'M', 'P', 'N', 'M', 'M']"
      ]
     },
     "execution_count": 10,
     "metadata": {},
     "output_type": "execute_result"
    }
   ],
   "source": [
    "result_predict_index = result_predict.argmax(axis=1)\n",
    "flag = {0:'P',1:'M',2:'N'}\n",
    "result_predict_finally = [flag[i] for i in result_predict_index]\n",
    "result_predict_finally"
   ]
  }
 ],
 "metadata": {
  "kernelspec": {
   "display_name": "Python 3",
   "language": "python",
   "name": "python3"
  },
  "language_info": {
   "codemirror_mode": {
    "name": "ipython",
    "version": 3
   },
   "file_extension": ".py",
   "mimetype": "text/x-python",
   "name": "python",
   "nbconvert_exporter": "python",
   "pygments_lexer": "ipython3",
   "version": "3.6.5"
  }
 },
 "nbformat": 4,
 "nbformat_minor": 2
}
